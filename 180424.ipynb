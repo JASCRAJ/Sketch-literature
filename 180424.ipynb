{
  "nbformat": 4,
  "nbformat_minor": 0,
  "metadata": {
    "colab": {
      "provenance": [],
      "mount_file_id": "1lBPKBRWjrc8_OnHLD_XeihTkikQfWJwt",
      "authorship_tag": "ABX9TyOvwtqItaNEBRyjJE0W2yXw",
      "include_colab_link": true
    },
    "kernelspec": {
      "name": "python3",
      "display_name": "Python 3"
    },
    "language_info": {
      "name": "python"
    }
  },
  "cells": [
    {
      "cell_type": "markdown",
      "metadata": {
        "id": "view-in-github",
        "colab_type": "text"
      },
      "source": [
        "<a href=\"https://colab.research.google.com/github/JASCRAJ/Sketch-literature/blob/main/180424.ipynb\" target=\"_parent\"><img src=\"https://colab.research.google.com/assets/colab-badge.svg\" alt=\"Open In Colab\"/></a>"
      ]
    },
    {
      "cell_type": "code",
      "execution_count": 1,
      "metadata": {
        "colab": {
          "base_uri": "https://localhost:8080/"
        },
        "id": "jeFRJPVaPoOq",
        "outputId": "6475fb7c-451e-44b3-b34a-a96e89a3e20d"
      },
      "outputs": [
        {
          "output_type": "stream",
          "name": "stdout",
          "text": [
            "Collecting cairosvg\n",
            "  Downloading CairoSVG-2.7.1-py3-none-any.whl (43 kB)\n",
            "\u001b[2K     \u001b[90m━━━━━━━━━━━━━━━━━━━━━━━━━━━━━━━━━━━━━━━━\u001b[0m \u001b[32m43.2/43.2 kB\u001b[0m \u001b[31m1.1 MB/s\u001b[0m eta \u001b[36m0:00:00\u001b[0m\n",
            "\u001b[?25hCollecting cairocffi (from cairosvg)\n",
            "  Downloading cairocffi-1.6.1-py3-none-any.whl (75 kB)\n",
            "\u001b[2K     \u001b[90m━━━━━━━━━━━━━━━━━━━━━━━━━━━━━━━━━━━━━━━━\u001b[0m \u001b[32m75.1/75.1 kB\u001b[0m \u001b[31m3.2 MB/s\u001b[0m eta \u001b[36m0:00:00\u001b[0m\n",
            "\u001b[?25hCollecting cssselect2 (from cairosvg)\n",
            "  Downloading cssselect2-0.7.0-py3-none-any.whl (15 kB)\n",
            "Requirement already satisfied: defusedxml in /usr/local/lib/python3.10/dist-packages (from cairosvg) (0.7.1)\n",
            "Requirement already satisfied: pillow in /usr/local/lib/python3.10/dist-packages (from cairosvg) (9.4.0)\n",
            "Requirement already satisfied: tinycss2 in /usr/local/lib/python3.10/dist-packages (from cairosvg) (1.2.1)\n",
            "Requirement already satisfied: cffi>=1.1.0 in /usr/local/lib/python3.10/dist-packages (from cairocffi->cairosvg) (1.16.0)\n",
            "Requirement already satisfied: webencodings in /usr/local/lib/python3.10/dist-packages (from cssselect2->cairosvg) (0.5.1)\n",
            "Requirement already satisfied: pycparser in /usr/local/lib/python3.10/dist-packages (from cffi>=1.1.0->cairocffi->cairosvg) (2.22)\n",
            "Installing collected packages: cssselect2, cairocffi, cairosvg\n",
            "Successfully installed cairocffi-1.6.1 cairosvg-2.7.1 cssselect2-0.7.0\n"
          ]
        }
      ],
      "source": [
        "!pip install cairosvg"
      ]
    },
    {
      "cell_type": "code",
      "source": [
        "import os\n",
        "\n",
        "# Define the folder containing SVG files\n",
        "svg_folder = \"/content/drive/MyDrive/wikiart/wikiart_random_line_svg\"\n",
        "# Define the output folder for CSV files\n",
        "output_folder = \"/content/drive/MyDrive/wikiart/wikiart_random_line_csv\"\n",
        "os.makedirs(output_folder, exist_ok=True)\n",
        "\n",
        "\n",
        "# List SVG files in the folder\n",
        "svg_files = [f for f in os.listdir(svg_folder) if f.endswith('.svg')]\n",
        "import xml.etree.ElementTree as ET\n",
        "import pandas as pd\n",
        "import re\n",
        "\n",
        "def extract_numeric_values(s):\n",
        "    # Use regular expression to extract numeric values\n",
        "    return re.findall(r'[-+]?\\d*\\.\\d+|\\d+', s)\n",
        "\n",
        "def parse_svg(svg_file):\n",
        "    tree = ET.parse(svg_file)\n",
        "    root = tree.getroot()\n",
        "    view_box = root.get('viewBox')\n",
        "    view_box_values = view_box.split()\n",
        "    svg_width = float(view_box_values[2])  # width is the third value\n",
        "    svg_height = float(view_box_values[3])  # height is the fourth value\n",
        "    # Extract width and height attributes from the SVG root element\n",
        "    # svg_width = root.get('width')\n",
        "    # svg_height = root.get('height')\n",
        "\n",
        "    paths = []\n",
        "\n",
        "    # Iterate through path elements\n",
        "    for path_elem in root.findall('.//{http://www.w3.org/2000/svg}path'):\n",
        "        path_data = path_elem.get('d')\n",
        "        #stroke = path_elem.get('stroke')\n",
        "        fill = path_elem.get('fill')\n",
        "        #print(stroke)\n",
        "\n",
        "        # Extract numeric values from path_data using the custom function\n",
        "        numeric_values = extract_numeric_values(path_data)\n",
        "\n",
        "        # Extract the second and third elements\n",
        "        M_x = numeric_values[0] if len(numeric_values) > 1 else None\n",
        "        M_y = numeric_values[1] if len(numeric_values) > 2 else None\n",
        "\n",
        "        # Calculate the length of the path data\n",
        "        path_length = len(path_data)\n",
        "\n",
        "        paths.append({\n",
        "            'path_data': path_data,\n",
        "            'fill': fill,\n",
        "            #'stroke': stroke,\n",
        "            'X_value': M_x,\n",
        "            'Y_value': M_y,\n",
        "            'path_length': path_length  # Add path length to the dictionary\n",
        "        })\n",
        "\n",
        "    # Create DataFrame from paths list\n",
        "    df = pd.DataFrame(paths)\n",
        "\n",
        "    # Add width and height to the DataFrame\n",
        "    df['width'] = svg_width\n",
        "    df['height'] = svg_height\n",
        "\n",
        "    # Sort DataFrame based on 'path_length' in descending order\n",
        "    df.sort_values(by='path_length', ascending=False, inplace=True)\n",
        "\n",
        "    return df\n",
        "def save_to_csv(dataframe, csv_filename):\n",
        "    dataframe.to_csv(csv_filename, index=False)\n",
        "# Process each SVG file\n",
        "for svg_file in svg_files:\n",
        "    # Parse SVG paths and create a DataFrame\n",
        "    df = parse_svg(os.path.join(svg_folder, svg_file))\n",
        "\n",
        "    # Split DataFrame based on path_length condition\n",
        "    subset_path_length_head = df.iloc[0:10]\n",
        "    subset_path_length_rest = df.iloc[10:]\n",
        "\n",
        "    # Define output filenames\n",
        "    filename_head = os.path.splitext(svg_file)[0] + \"_head.csv\"\n",
        "    filename_rest = os.path.splitext(svg_file)[0] + \"_rest.csv\"\n",
        "\n",
        "    # Define output paths\n",
        "    output_path_head = os.path.join(output_folder, filename_head)\n",
        "    output_path_rest = os.path.join(output_folder, filename_rest)\n",
        "\n",
        "    # Save CSV files to the output folder\n",
        "    save_to_csv(subset_path_length_head, output_path_head)\n",
        "    save_to_csv(subset_path_length_rest, output_path_rest)\n",
        "\n",
        "    print(f\"Processed SVG file: {svg_file}. Saved as: {filename_head} and {filename_rest} in {output_folder}\")\n"
      ],
      "metadata": {
        "colab": {
          "base_uri": "https://localhost:8080/"
        },
        "id": "9CegYwwcUnrC",
        "outputId": "3d0f937c-4cd4-4268-b94b-4ee89e17eabf"
      },
      "execution_count": 33,
      "outputs": [
        {
          "output_type": "stream",
          "name": "stdout",
          "text": [
            "Processed SVG file: portrait-of-a-young-man-in-red-1490.jpg!Large.svg. Saved as: portrait-of-a-young-man-in-red-1490.jpg!Large_head.csv and portrait-of-a-young-man-in-red-1490.jpg!Large_rest.csv in /content/drive/MyDrive/wikiart/wikiart_random_line_csv\n",
            "Processed SVG file: antique-3840757.jpg!Large.svg. Saved as: antique-3840757.jpg!Large_head.csv and antique-3840757.jpg!Large_rest.csv in /content/drive/MyDrive/wikiart/wikiart_random_line_csv\n",
            "Processed SVG file: flowers-in-a-vase-by-magnus-enckell.jpg!Large.svg. Saved as: flowers-in-a-vase-by-magnus-enckell.jpg!Large_head.csv and flowers-in-a-vase-by-magnus-enckell.jpg!Large_rest.csv in /content/drive/MyDrive/wikiart/wikiart_random_line_csv\n",
            "Processed SVG file: giovanni-da-milano-martirio-di-s-barnaba-1355-60-ca-01.jpg!Large.svg. Saved as: giovanni-da-milano-martirio-di-s-barnaba-1355-60-ca-01.jpg!Large_head.csv and giovanni-da-milano-martirio-di-s-barnaba-1355-60-ca-01.jpg!Large_rest.csv in /content/drive/MyDrive/wikiart/wikiart_random_line_csv\n",
            "Processed SVG file: john-frederick-herring-the-suffolk-hunt-gone-away-google-art-project.jpg!Large.svg. Saved as: john-frederick-herring-the-suffolk-hunt-gone-away-google-art-project.jpg!Large_head.csv and john-frederick-herring-the-suffolk-hunt-gone-away-google-art-project.jpg!Large_rest.csv in /content/drive/MyDrive/wikiart/wikiart_random_line_csv\n",
            "Processed SVG file: mrs-lamberg-n-e-kjellberg-albert-edelfelt-nationalmuseum-25454.jpg!Large.svg. Saved as: mrs-lamberg-n-e-kjellberg-albert-edelfelt-nationalmuseum-25454.jpg!Large_head.csv and mrs-lamberg-n-e-kjellberg-albert-edelfelt-nationalmuseum-25454.jpg!Large_rest.csv in /content/drive/MyDrive/wikiart/wikiart_random_line_csv\n",
            "Processed SVG file: last-sun-rays-1911.jpg!Large.svg. Saved as: last-sun-rays-1911.jpg!Large_head.csv and last-sun-rays-1911.jpg!Large_rest.csv in /content/drive/MyDrive/wikiart/wikiart_random_line_csv\n",
            "Processed SVG file: print-england-ch-18098891.jpg!Large.svg. Saved as: print-england-ch-18098891.jpg!Large_head.csv and print-england-ch-18098891.jpg!Large_rest.csv in /content/drive/MyDrive/wikiart/wikiart_random_line_csv\n",
            "Processed SVG file: reminiscence-of-the-tempyo-era-by-fujishima-takeji.jpg!Large.svg. Saved as: reminiscence-of-the-tempyo-era-by-fujishima-takeji.jpg!Large_head.csv and reminiscence-of-the-tempyo-era-by-fujishima-takeji.jpg!Large_rest.csv in /content/drive/MyDrive/wikiart/wikiart_random_line_csv\n",
            "Processed SVG file: walter-gramatt-smiling-head-self-portrait-l-chelnder-kopf-selbstportr-t-1923-nga-153634.jpg!PinterestSmall.svg. Saved as: walter-gramatt-smiling-head-self-portrait-l-chelnder-kopf-selbstportr-t-1923-nga-153634.jpg!PinterestSmall_head.csv and walter-gramatt-smiling-head-self-portrait-l-chelnder-kopf-selbstportr-t-1923-nga-153634.jpg!PinterestSmall_rest.csv in /content/drive/MyDrive/wikiart/wikiart_random_line_csv\n",
            "Processed SVG file: jean-auguste-dominique-ingres-comtesse-d-haussonville-google-art-project.jpg!Large.svg. Saved as: jean-auguste-dominique-ingres-comtesse-d-haussonville-google-art-project.jpg!Large_head.csv and jean-auguste-dominique-ingres-comtesse-d-haussonville-google-art-project.jpg!Large_rest.csv in /content/drive/MyDrive/wikiart/wikiart_random_line_csv\n"
          ]
        }
      ]
    },
    {
      "cell_type": "code",
      "source": [
        "import os\n",
        "\n",
        "common_path = '/content/drive/MyDrive/wikiart/wikiart_random_line_svg'\n",
        "\n",
        "# List all files in the common_path directory\n",
        "files = os.listdir(common_path)\n",
        "\n",
        "# Filter out only CSV files\n",
        "csv_files = [file for file in files if file.endswith('.svg')]\n",
        "\n",
        "# Construct full paths for CSV files\n",
        "csv_paths = [os.path.join(common_path, file) for file in csv_files]\n",
        "\n",
        "# Print the list of CSV file paths\n",
        "print(\"CSV files found in the common_path directory:\")\n",
        "for csv_path in csv_paths:\n",
        "    print(csv_path)\n"
      ],
      "metadata": {
        "colab": {
          "base_uri": "https://localhost:8080/"
        },
        "id": "9JJJ6sOfXFuN",
        "outputId": "8995ac3a-4dc3-4344-aeb1-9f00d23c9177"
      },
      "execution_count": 15,
      "outputs": [
        {
          "output_type": "stream",
          "name": "stdout",
          "text": [
            "CSV files found in the common_path directory:\n",
            "/content/drive/MyDrive/wikiart/wikiart_random_line_svg/portrait-of-a-young-man-in-red-1490.jpg!Large.svg\n",
            "/content/drive/MyDrive/wikiart/wikiart_random_line_svg/antique-3840757.jpg!Large.svg\n",
            "/content/drive/MyDrive/wikiart/wikiart_random_line_svg/flowers-in-a-vase-by-magnus-enckell.jpg!Large.svg\n",
            "/content/drive/MyDrive/wikiart/wikiart_random_line_svg/giovanni-da-milano-martirio-di-s-barnaba-1355-60-ca-01.jpg!Large.svg\n",
            "/content/drive/MyDrive/wikiart/wikiart_random_line_svg/jean-auguste-dominique-ingres-comtesse-d-haussonville-google-art-project.jpg!Large.svg\n",
            "/content/drive/MyDrive/wikiart/wikiart_random_line_svg/john-frederick-herring-the-suffolk-hunt-gone-away-google-art-project.jpg!Large.svg\n",
            "/content/drive/MyDrive/wikiart/wikiart_random_line_svg/mrs-lamberg-n-e-kjellberg-albert-edelfelt-nationalmuseum-25454.jpg!Large.svg\n",
            "/content/drive/MyDrive/wikiart/wikiart_random_line_svg/last-sun-rays-1911.jpg!Large.svg\n",
            "/content/drive/MyDrive/wikiart/wikiart_random_line_svg/print-england-ch-18098891.jpg!Large.svg\n",
            "/content/drive/MyDrive/wikiart/wikiart_random_line_svg/reminiscence-of-the-tempyo-era-by-fujishima-takeji.jpg!Large.svg\n",
            "/content/drive/MyDrive/wikiart/wikiart_random_line_svg/walter-gramatt-smiling-head-self-portrait-l-chelnder-kopf-selbstportr-t-1923-nga-153634.jpg!PinterestSmall.svg\n"
          ]
        }
      ]
    },
    {
      "cell_type": "code",
      "source": [
        "csv_paths[0]"
      ],
      "metadata": {
        "colab": {
          "base_uri": "https://localhost:8080/",
          "height": 36
        },
        "id": "jlwHGOwpgR7d",
        "outputId": "6d4b919e-ed5a-4a94-d815-0e4c5ae4d330"
      },
      "execution_count": 18,
      "outputs": [
        {
          "output_type": "execute_result",
          "data": {
            "text/plain": [
              "'/content/drive/MyDrive/wikiart/wikiart_random_line_svg/portrait-of-a-young-man-in-red-1490.jpg!Large.svg'"
            ],
            "application/vnd.google.colaboratory.intrinsic+json": {
              "type": "string"
            }
          },
          "metadata": {},
          "execution_count": 18
        }
      ]
    },
    {
      "cell_type": "code",
      "source": [
        "common_path = '/content/drive/MyDrive/wikiart/wikiart_random_line_csv'\n",
        "#svg_folder = '/content/drive/MyDrive/wikiart/wikiart_random_line_svg'\n",
        "File_name = 'jean-auguste-dominique-ingres-comtesse-d-haussonville-google-art-project.jpg!Large'"
      ],
      "metadata": {
        "id": "LwqCEM4IV34Y"
      },
      "execution_count": 31,
      "outputs": []
    },
    {
      "cell_type": "code",
      "source": [
        "import xml.etree.ElementTree as ET\n",
        "import pandas as pd\n",
        "import re\n",
        "import os\n",
        "import matplotlib.pyplot as plt\n",
        "import matplotlib.image as mpimg\n",
        "from scipy.cluster.hierarchy import linkage, fcluster\n",
        "from scipy.spatial.distance import pdist\n",
        "import cairosvg\n",
        "\n",
        "common_path = '/content/drive/MyDrive/wikiart/wikiart_random_line_csv'\n",
        "#svg_folder = '/content/drive/MyDrive/wikiart/wikiart_random_line_svg'\n",
        "File_name = 'walter-gramatt-smiling-head-self-portrait-l-chelnder-kopf-selbstportr-t-1923-nga-153634.jpg!PinterestSmall'\n",
        "\n",
        "def extract_numeric_values(s):\n",
        "    # Use regular expression to extract numeric values\n",
        "    return re.findall(r'[-+]?\\d*\\.\\d+|\\d+', s)\n",
        "\n",
        "def hierarchical_clustering(csv_file_path):\n",
        "    df = pd.read_csv(csv_file_path)\n",
        "    distances = pdist(df[['X_value', 'Y_value']])\n",
        "    max_distance = df['width'].iloc[0]/8\n",
        "    print(max_distance)\n",
        "    linkage_matrix = linkage(distances, method='ward')\n",
        "    clusters = fcluster(linkage_matrix, t=max_distance, criterion='distance')\n",
        "    df['Cluster'] = clusters\n",
        "    df_sorted = df.sort_values(by='Cluster')\n",
        "    num_clusters = len(set(clusters))\n",
        "    print(\"Number of clusters:\", num_clusters)\n",
        "    return df_sorted\n",
        "\n",
        "\n",
        "def save_svg_and_png_files_head(df_sorted, output_dir_svg, output_dir_png):\n",
        "    os.makedirs(output_dir_svg, exist_ok=True)\n",
        "    os.makedirs(output_dir_png, exist_ok=True)\n",
        "    width = df_sorted['width'].iloc[0]\n",
        "    height = df_sorted['height'].iloc[0]\n",
        "    cumulative_svg_content = f'<svg xmlns=\"http://www.w3.org/2000/svg\" width=\"{width}\" height=\"{height}\">'\n",
        "    #cumulative_svg_content += f'<rect width=\"{width}\" height=\"{height}\" fill=\"white\"/>\\n'\n",
        "    grouped_clusters = df_sorted.groupby('Cluster')\n",
        "\n",
        "    for cluster, group in grouped_clusters:\n",
        "        paths_data = group['path_data'].tolist()\n",
        "        stroke = group['fill'].tolist()\n",
        "        #print(stroke)\n",
        "\n",
        "        svg_content = ''\n",
        "\n",
        "        for path_data, color in zip(paths_data, stroke):\n",
        "            svg_content += f'<path d=\"{path_data}\" fill=\"{color}\" />\\n'\n",
        "            #svg_content += f'<path d=\"{path_data}\" stroke=\"{color}\" fill=\"{\"none\"}\" stroke-width=\"{\"1.00\"}\" vector-effect=\"{\"non-scaling-stroke\"}\"/>\\n'\n",
        "\n",
        "        cumulative_svg_content += svg_content\n",
        "\n",
        "        svg_file_path_cluster = os.path.join(output_dir_svg, f'{File_name}_accumulated_clusters_1_{cluster}.svg')\n",
        "        with open(svg_file_path_cluster, 'w') as f:\n",
        "            f.write(cumulative_svg_content + '</svg>')\n",
        "\n",
        "        png_file_path = os.path.join(output_dir_png, f'{File_name}_accumulated_clusters_1_{cluster}.png')\n",
        "        cairosvg.svg2png(url=svg_file_path_cluster, write_to=png_file_path)\n",
        "\n",
        "    return cumulative_svg_content\n",
        "\n",
        "def save_svg_and_png_files_rest(df_sorted, output_dir_svg, output_dir_png):\n",
        "    os.makedirs(output_dir_svg, exist_ok=True)\n",
        "    os.makedirs(output_dir_png, exist_ok=True)\n",
        "    width = df_sorted['width'].iloc[0]\n",
        "    height = df_sorted['height'].iloc[0]\n",
        "    #cumulative_svg_content = f'<svg xmlns=\"http://www.w3.org/2000/svg\" width=\"{width}\" height=\"{height}\">'\n",
        "    cumulative_svg_content = p_data\n",
        "    grouped_clusters = df_sorted.groupby('Cluster')\n",
        "\n",
        "    for cluster, group in grouped_clusters:\n",
        "        paths_data = group['path_data'].tolist()\n",
        "        fill = group['fill'].tolist()\n",
        "\n",
        "\n",
        "        svg_content = ''\n",
        "        for path_data, color in zip(paths_data, fill):\n",
        "            svg_content += f'<path d=\"{path_data}\" fill=\"{color}\" />\\n'\n",
        "            #svg_content += f'<path d=\"{path_data}\" stroke=\"{color}\" fill=\"{\"none\"}\" stroke-width=\"{\"1.00\"}\" vector-effect=\"{\"non-scaling-stroke\"}\"/>\\n'\n",
        "\n",
        "        # for path_data, style in zip(paths_data, stroke):\n",
        "        #     svg_content += f'<path d=\"{path_data}\" style=\"{stroke}\" />\\n'\n",
        "            #svg_content += f'<path d=\"{path_data}\" style=\"fill: none; stroke: black;stroke-width: 2px;\" />\\n'\n",
        "\n",
        "        cumulative_svg_content += svg_content\n",
        "        f_content = cumulative_svg_content + '</svg>'\n",
        "\n",
        "        svg_file_path = os.path.join(output_dir_svg, f'{File_name}_accumulated_clusters_2_{cluster}.svg')\n",
        "        with open(svg_file_path, 'w') as f:\n",
        "            f.write(f_content)\n",
        "\n",
        "        png_file_path = os.path.join(output_dir_png, f'{File_name}_accumulated_clusters_2_{cluster}.png')\n",
        "        cairosvg.svg2png(url=svg_file_path, write_to=png_file_path)\n",
        "\n",
        "csv_file_path_head = os.path.join(common_path, File_name + '_head.csv')\n",
        "csv_file_path_rest = os.path.join(common_path, File_name + '_rest.csv')\n",
        "svg_output_dir = os.path.join(common_path, File_name + 'svg_files')\n",
        "png_output_dir = os.path.join(common_path, File_name +'png_files')\n",
        "\n",
        "df_sorted_head = hierarchical_clustering(csv_file_path_head)\n",
        "df_sorted_rest = hierarchical_clustering(csv_file_path_rest)\n",
        "p_data = save_svg_and_png_files_head(df_sorted_head, svg_output_dir, png_output_dir)\n",
        "p_data = save_svg_and_png_files_rest(df_sorted_rest, svg_output_dir, png_output_dir)\n",
        "\n"
      ],
      "metadata": {
        "colab": {
          "base_uri": "https://localhost:8080/"
        },
        "id": "lt3-pY9OV-kJ",
        "outputId": "b872aceb-bafa-477b-ff39-81ae12ec2d28"
      },
      "execution_count": 39,
      "outputs": [
        {
          "output_type": "stream",
          "name": "stdout",
          "text": [
            "26.5\n",
            "Number of clusters: 8\n",
            "26.5\n",
            "Number of clusters: 45\n"
          ]
        }
      ]
    }
  ]
}