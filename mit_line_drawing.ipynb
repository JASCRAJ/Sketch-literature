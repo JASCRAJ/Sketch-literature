{
  "nbformat": 4,
  "nbformat_minor": 0,
  "metadata": {
    "colab": {
      "provenance": [],
      "authorship_tag": "ABX9TyPoo+JaiNFBqS/yxztiH8Fm",
      "include_colab_link": true
    },
    "kernelspec": {
      "name": "python3",
      "display_name": "Python 3"
    },
    "language_info": {
      "name": "python"
    }
  },
  "cells": [
    {
      "cell_type": "markdown",
      "metadata": {
        "id": "view-in-github",
        "colab_type": "text"
      },
      "source": [
        "<a href=\"https://colab.research.google.com/github/JASCRAJ/Sketch-literature/blob/main/mit_line_drawing.ipynb\" target=\"_parent\"><img src=\"https://colab.research.google.com/assets/colab-badge.svg\" alt=\"Open In Colab\"/></a>"
      ]
    },
    {
      "cell_type": "code",
      "execution_count": 7,
      "metadata": {
        "colab": {
          "base_uri": "https://localhost:8080/"
        },
        "id": "of78z7v8F4mi",
        "outputId": "456555c7-d30c-4abb-c689-19da26bb19d5"
      },
      "outputs": [
        {
          "output_type": "stream",
          "name": "stdout",
          "text": [
            "Resized image saved to: resized_200_Laura.png\n"
          ]
        },
        {
          "output_type": "stream",
          "name": "stderr",
          "text": [
            "<ipython-input-7-4011ea6ef51a>:21: DeprecationWarning: ANTIALIAS is deprecated and will be removed in Pillow 10 (2023-07-01). Use LANCZOS or Resampling.LANCZOS instead.\n",
            "  resized_image = image.resize((new_width, new_height), Image.ANTIALIAS)\n"
          ]
        }
      ],
      "source": [
        "from PIL import Image\n",
        "\n",
        "def resize_image_preserve_scale(image_path, max_dimension, save_path=None):\n",
        "    # Open the image\n",
        "    image = Image.open(image_path)\n",
        "\n",
        "    # Get the dimensions of the image\n",
        "    width, height = image.size\n",
        "\n",
        "    # Calculate the scaling factor\n",
        "    if width > height:\n",
        "        scaling_factor = max_dimension / width\n",
        "    else:\n",
        "        scaling_factor = max_dimension / height\n",
        "\n",
        "    # Calculate the new dimensions\n",
        "    new_width = int(width * scaling_factor)\n",
        "    new_height = int(height * scaling_factor)\n",
        "\n",
        "    # Resize the image\n",
        "    resized_image = image.resize((new_width, new_height), Image.ANTIALIAS)\n",
        "\n",
        "    # Save or display the resized image\n",
        "    if save_path:\n",
        "        resized_image.save(save_path)\n",
        "        print(f\"Resized image saved to: {save_path}\")\n",
        "    else:\n",
        "        resized_image.show()\n",
        "\n",
        "# Example usage:\n",
        "image_path = \"/content/output/Laura.png\"\n",
        "max_dimension = 200  # specify the maximum width or height of the resized image\n",
        "save_path = \"resized_200_Laura.png\"  # specify the save path or leave it None to display only\n",
        "\n",
        "resize_image_preserve_scale(image_path, max_dimension, save_path)\n"
      ]
    },
    {
      "cell_type": "code",
      "source": [
        "!pip install gradio_client"
      ],
      "metadata": {
        "colab": {
          "base_uri": "https://localhost:8080/"
        },
        "id": "t3-njuZpLziX",
        "outputId": "b5845efe-c981-427d-e23e-35a2989c47a8"
      },
      "execution_count": 2,
      "outputs": [
        {
          "output_type": "stream",
          "name": "stdout",
          "text": [
            "Collecting gradio_client\n",
            "  Downloading gradio_client-0.14.0-py3-none-any.whl (312 kB)\n",
            "\u001b[?25l     \u001b[90m━━━━━━━━━━━━━━━━━━━━━━━━━━━━━━━━━━━━━━━━\u001b[0m \u001b[32m0.0/312.4 kB\u001b[0m \u001b[31m?\u001b[0m eta \u001b[36m-:--:--\u001b[0m\r\u001b[2K     \u001b[91m━━━━━━━━━━━━━━━━━━━━\u001b[0m\u001b[91m╸\u001b[0m\u001b[90m━━━━━━━━━━━━━━━━━━━\u001b[0m \u001b[32m163.8/312.4 kB\u001b[0m \u001b[31m4.7 MB/s\u001b[0m eta \u001b[36m0:00:01\u001b[0m\r\u001b[2K     \u001b[90m━━━━━━━━━━━━━━━━━━━━━━━━━━━━━━━━━━━━━━━━\u001b[0m \u001b[32m312.4/312.4 kB\u001b[0m \u001b[31m5.4 MB/s\u001b[0m eta \u001b[36m0:00:00\u001b[0m\n",
            "\u001b[?25hRequirement already satisfied: fsspec in /usr/local/lib/python3.10/dist-packages (from gradio_client) (2023.6.0)\n",
            "Collecting httpx>=0.24.1 (from gradio_client)\n",
            "  Downloading httpx-0.27.0-py3-none-any.whl (75 kB)\n",
            "\u001b[2K     \u001b[90m━━━━━━━━━━━━━━━━━━━━━━━━━━━━━━━━━━━━━━━━\u001b[0m \u001b[32m75.6/75.6 kB\u001b[0m \u001b[31m9.6 MB/s\u001b[0m eta \u001b[36m0:00:00\u001b[0m\n",
            "\u001b[?25hRequirement already satisfied: huggingface-hub>=0.19.3 in /usr/local/lib/python3.10/dist-packages (from gradio_client) (0.20.3)\n",
            "Requirement already satisfied: packaging in /usr/local/lib/python3.10/dist-packages (from gradio_client) (24.0)\n",
            "Requirement already satisfied: typing-extensions~=4.0 in /usr/local/lib/python3.10/dist-packages (from gradio_client) (4.10.0)\n",
            "Collecting websockets<12.0,>=10.0 (from gradio_client)\n",
            "  Downloading websockets-11.0.3-cp310-cp310-manylinux_2_5_x86_64.manylinux1_x86_64.manylinux_2_17_x86_64.manylinux2014_x86_64.whl (129 kB)\n",
            "\u001b[2K     \u001b[90m━━━━━━━━━━━━━━━━━━━━━━━━━━━━━━━━━━━━━━━━\u001b[0m \u001b[32m129.9/129.9 kB\u001b[0m \u001b[31m8.3 MB/s\u001b[0m eta \u001b[36m0:00:00\u001b[0m\n",
            "\u001b[?25hRequirement already satisfied: anyio in /usr/local/lib/python3.10/dist-packages (from httpx>=0.24.1->gradio_client) (3.7.1)\n",
            "Requirement already satisfied: certifi in /usr/local/lib/python3.10/dist-packages (from httpx>=0.24.1->gradio_client) (2024.2.2)\n",
            "Collecting httpcore==1.* (from httpx>=0.24.1->gradio_client)\n",
            "  Downloading httpcore-1.0.5-py3-none-any.whl (77 kB)\n",
            "\u001b[2K     \u001b[90m━━━━━━━━━━━━━━━━━━━━━━━━━━━━━━━━━━━━━━━━\u001b[0m \u001b[32m77.9/77.9 kB\u001b[0m \u001b[31m9.0 MB/s\u001b[0m eta \u001b[36m0:00:00\u001b[0m\n",
            "\u001b[?25hRequirement already satisfied: idna in /usr/local/lib/python3.10/dist-packages (from httpx>=0.24.1->gradio_client) (3.6)\n",
            "Requirement already satisfied: sniffio in /usr/local/lib/python3.10/dist-packages (from httpx>=0.24.1->gradio_client) (1.3.1)\n",
            "Collecting h11<0.15,>=0.13 (from httpcore==1.*->httpx>=0.24.1->gradio_client)\n",
            "  Downloading h11-0.14.0-py3-none-any.whl (58 kB)\n",
            "\u001b[2K     \u001b[90m━━━━━━━━━━━━━━━━━━━━━━━━━━━━━━━━━━━━━━━━\u001b[0m \u001b[32m58.3/58.3 kB\u001b[0m \u001b[31m6.2 MB/s\u001b[0m eta \u001b[36m0:00:00\u001b[0m\n",
            "\u001b[?25hRequirement already satisfied: filelock in /usr/local/lib/python3.10/dist-packages (from huggingface-hub>=0.19.3->gradio_client) (3.13.3)\n",
            "Requirement already satisfied: requests in /usr/local/lib/python3.10/dist-packages (from huggingface-hub>=0.19.3->gradio_client) (2.31.0)\n",
            "Requirement already satisfied: tqdm>=4.42.1 in /usr/local/lib/python3.10/dist-packages (from huggingface-hub>=0.19.3->gradio_client) (4.66.2)\n",
            "Requirement already satisfied: pyyaml>=5.1 in /usr/local/lib/python3.10/dist-packages (from huggingface-hub>=0.19.3->gradio_client) (6.0.1)\n",
            "Requirement already satisfied: exceptiongroup in /usr/local/lib/python3.10/dist-packages (from anyio->httpx>=0.24.1->gradio_client) (1.2.0)\n",
            "Requirement already satisfied: charset-normalizer<4,>=2 in /usr/local/lib/python3.10/dist-packages (from requests->huggingface-hub>=0.19.3->gradio_client) (3.3.2)\n",
            "Requirement already satisfied: urllib3<3,>=1.21.1 in /usr/local/lib/python3.10/dist-packages (from requests->huggingface-hub>=0.19.3->gradio_client) (2.0.7)\n",
            "Installing collected packages: websockets, h11, httpcore, httpx, gradio_client\n",
            "Successfully installed gradio_client-0.14.0 h11-0.14.0 httpcore-1.0.5 httpx-0.27.0 websockets-11.0.3\n"
          ]
        }
      ]
    },
    {
      "cell_type": "code",
      "source": [
        "import os\n",
        "from gradio_client import Client\n",
        "from IPython.display import Image\n",
        "\n",
        "client = Client(\"https://carolineec-informativedrawings.hf.space/\")\n",
        "\n",
        "# Path to the folder containing images\n",
        "folder_path = \"/content/input\"\n",
        "\n",
        "# List all files in the folder\n",
        "image_files = [os.path.join(folder_path, file) for file in os.listdir(folder_path) if file.endswith((\".jpg\", \".jpeg\", \".png\"))]\n",
        "\n",
        "# Loop through each image file\n",
        "for image_file in image_files:\n",
        "    result = client.predict(\n",
        "        image_file,                # Path to the image file\n",
        "        \"style 1\",                 # str in 'version' Radio component\n",
        "        api_name=\"/predict\"\n",
        "    )\n",
        "\n",
        "    # Save the result image\n",
        "    result_image_path = os.path.join(folder_path, \"result_\" + os.path.basename(image_file))\n",
        "    with open(result_image_path, \"wb\") as f:\n",
        "        f.write(open(result, \"rb\").read())"
      ],
      "metadata": {
        "colab": {
          "base_uri": "https://localhost:8080/"
        },
        "id": "T6njL2u2L4pa",
        "outputId": "69da851b-76c0-400c-8360-42782339f7ce"
      },
      "execution_count": null,
      "outputs": [
        {
          "output_type": "stream",
          "name": "stdout",
          "text": [
            "Loaded as API: https://carolineec-informativedrawings.hf.space/ ✔\n"
          ]
        }
      ]
    },
    {
      "cell_type": "code",
      "source": [
        "import os\n",
        "from gradio_client import Client\n",
        "from IPython.display import Image\n",
        "\n",
        "client = Client(\"https://carolineec-informativedrawings.hf.space/\")\n",
        "\n",
        "# Path to the folder containing images\n",
        "input_folder_path = \"/content/input\"\n",
        "output_folder_path = \"/content/output\"\n",
        "\n",
        "# List all files in the input folder\n",
        "image_files = [os.path.join(input_folder_path, file) for file in os.listdir(input_folder_path) if file.endswith((\".jpg\", \".jpeg\", \".png\"))]\n",
        "\n",
        "# Loop through each image file\n",
        "for image_file in image_files:\n",
        "    result = client.predict(\n",
        "        image_file,                # Path to the image file\n",
        "        \"style 1\",                 # str in 'version' Radio component\n",
        "        api_name=\"/predict\"\n",
        "    )\n",
        "\n",
        "    # Extract filename without extension\n",
        "    filename = os.path.splitext(os.path.basename(image_file))[0]\n",
        "\n",
        "    # Construct output image file path\n",
        "    result_image_path = os.path.join(output_folder_path, filename + \".png\")\n",
        "\n",
        "    # Save the result image\n",
        "    with open(result_image_path, \"wb\") as f:\n",
        "        f.write(open(result, \"rb\").read())\n"
      ],
      "metadata": {
        "colab": {
          "base_uri": "https://localhost:8080/"
        },
        "id": "RDz-wEfOO4UW",
        "outputId": "7821823d-6bac-42ee-df94-49751b42d843"
      },
      "execution_count": 5,
      "outputs": [
        {
          "output_type": "stream",
          "name": "stdout",
          "text": [
            "Loaded as API: https://carolineec-informativedrawings.hf.space/ ✔\n"
          ]
        }
      ]
    }
  ]
}