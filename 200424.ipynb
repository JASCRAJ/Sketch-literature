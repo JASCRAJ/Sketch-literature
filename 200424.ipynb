{
  "cells": [
    {
      "cell_type": "markdown",
      "metadata": {
        "id": "view-in-github",
        "colab_type": "text"
      },
      "source": [
        "<a href=\"https://colab.research.google.com/github/JASCRAJ/Sketch-literature/blob/main/200424.ipynb\" target=\"_parent\"><img src=\"https://colab.research.google.com/assets/colab-badge.svg\" alt=\"Open In Colab\"/></a>"
      ]
    },
    {
      "cell_type": "code",
      "execution_count": null,
      "metadata": {
        "colab": {
          "base_uri": "https://localhost:8080/"
        },
        "id": "BYDNsJk9bEZW",
        "outputId": "a0608fc4-38a3-434c-c519-7ac08f7b6252"
      },
      "outputs": [
        {
          "output_type": "stream",
          "name": "stdout",
          "text": [
            "Collecting cairosvg\n",
            "  Downloading CairoSVG-2.7.1-py3-none-any.whl (43 kB)\n",
            "\u001b[?25l     \u001b[90m━━━━━━━━━━━━━━━━━━━━━━━━━━━━━━━━━━━━━━━━\u001b[0m \u001b[32m0.0/43.2 kB\u001b[0m \u001b[31m?\u001b[0m eta \u001b[36m-:--:--\u001b[0m\r\u001b[2K     \u001b[90m━━━━━━━━━━━━━━━━━━━━━━━━━━━━━━━━━━━━━━━━\u001b[0m \u001b[32m43.2/43.2 kB\u001b[0m \u001b[31m1.4 MB/s\u001b[0m eta \u001b[36m0:00:00\u001b[0m\n",
            "\u001b[?25hCollecting cairocffi (from cairosvg)\n",
            "  Downloading cairocffi-1.6.1-py3-none-any.whl (75 kB)\n",
            "\u001b[?25l     \u001b[90m━━━━━━━━━━━━━━━━━━━━━━━━━━━━━━━━━━━━━━━━\u001b[0m \u001b[32m0.0/75.1 kB\u001b[0m \u001b[31m?\u001b[0m eta \u001b[36m-:--:--\u001b[0m\r\u001b[2K     \u001b[90m━━━━━━━━━━━━━━━━━━━━━━━━━━━━━━━━━━━━━━━━\u001b[0m \u001b[32m75.1/75.1 kB\u001b[0m \u001b[31m5.2 MB/s\u001b[0m eta \u001b[36m0:00:00\u001b[0m\n",
            "\u001b[?25hCollecting cssselect2 (from cairosvg)\n",
            "  Downloading cssselect2-0.7.0-py3-none-any.whl (15 kB)\n",
            "Requirement already satisfied: defusedxml in /usr/local/lib/python3.10/dist-packages (from cairosvg) (0.7.1)\n",
            "Requirement already satisfied: pillow in /usr/local/lib/python3.10/dist-packages (from cairosvg) (9.4.0)\n",
            "Requirement already satisfied: tinycss2 in /usr/local/lib/python3.10/dist-packages (from cairosvg) (1.2.1)\n",
            "Requirement already satisfied: cffi>=1.1.0 in /usr/local/lib/python3.10/dist-packages (from cairocffi->cairosvg) (1.16.0)\n",
            "Requirement already satisfied: webencodings in /usr/local/lib/python3.10/dist-packages (from cssselect2->cairosvg) (0.5.1)\n",
            "Requirement already satisfied: pycparser in /usr/local/lib/python3.10/dist-packages (from cffi>=1.1.0->cairocffi->cairosvg) (2.22)\n",
            "Installing collected packages: cssselect2, cairocffi, cairosvg\n",
            "Successfully installed cairocffi-1.6.1 cairosvg-2.7.1 cssselect2-0.7.0\n"
          ]
        }
      ],
      "source": [
        "!pip install cairosvg"
      ]
    },
    {
      "cell_type": "code",
      "source": [
        "!pip install gradio_client"
      ],
      "metadata": {
        "colab": {
          "base_uri": "https://localhost:8080/"
        },
        "id": "DeL-7J41b5GU",
        "outputId": "f1565134-e0c4-4d06-f585-60fd7b362d00"
      },
      "execution_count": null,
      "outputs": [
        {
          "output_type": "stream",
          "name": "stdout",
          "text": [
            "Collecting gradio_client\n",
            "  Downloading gradio_client-0.15.1-py3-none-any.whl (313 kB)\n",
            "\u001b[2K     \u001b[90m━━━━━━━━━━━━━━━━━━━━━━━━━━━━━━━━━━━━━━━━\u001b[0m \u001b[32m313.6/313.6 kB\u001b[0m \u001b[31m2.0 MB/s\u001b[0m eta \u001b[36m0:00:00\u001b[0m\n",
            "\u001b[?25hRequirement already satisfied: fsspec in /usr/local/lib/python3.10/dist-packages (from gradio_client) (2023.6.0)\n",
            "Collecting httpx>=0.24.1 (from gradio_client)\n",
            "  Downloading httpx-0.27.0-py3-none-any.whl (75 kB)\n",
            "\u001b[2K     \u001b[90m━━━━━━━━━━━━━━━━━━━━━━━━━━━━━━━━━━━━━━━━\u001b[0m \u001b[32m75.6/75.6 kB\u001b[0m \u001b[31m3.2 MB/s\u001b[0m eta \u001b[36m0:00:00\u001b[0m\n",
            "\u001b[?25hRequirement already satisfied: huggingface-hub>=0.19.3 in /usr/local/lib/python3.10/dist-packages (from gradio_client) (0.20.3)\n",
            "Requirement already satisfied: packaging in /usr/local/lib/python3.10/dist-packages (from gradio_client) (24.0)\n",
            "Requirement already satisfied: typing-extensions~=4.0 in /usr/local/lib/python3.10/dist-packages (from gradio_client) (4.11.0)\n",
            "Collecting websockets<12.0,>=10.0 (from gradio_client)\n",
            "  Downloading websockets-11.0.3-cp310-cp310-manylinux_2_5_x86_64.manylinux1_x86_64.manylinux_2_17_x86_64.manylinux2014_x86_64.whl (129 kB)\n",
            "\u001b[2K     \u001b[90m━━━━━━━━━━━━━━━━━━━━━━━━━━━━━━━━━━━━━━━━\u001b[0m \u001b[32m129.9/129.9 kB\u001b[0m \u001b[31m2.5 MB/s\u001b[0m eta \u001b[36m0:00:00\u001b[0m\n",
            "\u001b[?25hRequirement already satisfied: anyio in /usr/local/lib/python3.10/dist-packages (from httpx>=0.24.1->gradio_client) (3.7.1)\n",
            "Requirement already satisfied: certifi in /usr/local/lib/python3.10/dist-packages (from httpx>=0.24.1->gradio_client) (2024.2.2)\n",
            "Collecting httpcore==1.* (from httpx>=0.24.1->gradio_client)\n",
            "  Downloading httpcore-1.0.5-py3-none-any.whl (77 kB)\n",
            "\u001b[2K     \u001b[90m━━━━━━━━━━━━━━━━━━━━━━━━━━━━━━━━━━━━━━━━\u001b[0m \u001b[32m77.9/77.9 kB\u001b[0m \u001b[31m8.1 MB/s\u001b[0m eta \u001b[36m0:00:00\u001b[0m\n",
            "\u001b[?25hRequirement already satisfied: idna in /usr/local/lib/python3.10/dist-packages (from httpx>=0.24.1->gradio_client) (3.7)\n",
            "Requirement already satisfied: sniffio in /usr/local/lib/python3.10/dist-packages (from httpx>=0.24.1->gradio_client) (1.3.1)\n",
            "Collecting h11<0.15,>=0.13 (from httpcore==1.*->httpx>=0.24.1->gradio_client)\n",
            "  Downloading h11-0.14.0-py3-none-any.whl (58 kB)\n",
            "\u001b[2K     \u001b[90m━━━━━━━━━━━━━━━━━━━━━━━━━━━━━━━━━━━━━━━━\u001b[0m \u001b[32m58.3/58.3 kB\u001b[0m \u001b[31m3.1 MB/s\u001b[0m eta \u001b[36m0:00:00\u001b[0m\n",
            "\u001b[?25hRequirement already satisfied: filelock in /usr/local/lib/python3.10/dist-packages (from huggingface-hub>=0.19.3->gradio_client) (3.13.4)\n",
            "Requirement already satisfied: requests in /usr/local/lib/python3.10/dist-packages (from huggingface-hub>=0.19.3->gradio_client) (2.31.0)\n",
            "Requirement already satisfied: tqdm>=4.42.1 in /usr/local/lib/python3.10/dist-packages (from huggingface-hub>=0.19.3->gradio_client) (4.66.2)\n",
            "Requirement already satisfied: pyyaml>=5.1 in /usr/local/lib/python3.10/dist-packages (from huggingface-hub>=0.19.3->gradio_client) (6.0.1)\n",
            "Requirement already satisfied: exceptiongroup in /usr/local/lib/python3.10/dist-packages (from anyio->httpx>=0.24.1->gradio_client) (1.2.0)\n",
            "Requirement already satisfied: charset-normalizer<4,>=2 in /usr/local/lib/python3.10/dist-packages (from requests->huggingface-hub>=0.19.3->gradio_client) (3.3.2)\n",
            "Requirement already satisfied: urllib3<3,>=1.21.1 in /usr/local/lib/python3.10/dist-packages (from requests->huggingface-hub>=0.19.3->gradio_client) (2.0.7)\n",
            "Installing collected packages: websockets, h11, httpcore, httpx, gradio_client\n",
            "Successfully installed gradio_client-0.15.1 h11-0.14.0 httpcore-1.0.5 httpx-0.27.0 websockets-11.0.3\n"
          ]
        }
      ]
    },
    {
      "cell_type": "markdown",
      "source": [
        "MIT Line drawing"
      ],
      "metadata": {
        "id": "sLR9W5x5hAfc"
      }
    },
    {
      "cell_type": "code",
      "source": [
        "import os\n",
        "from PIL import Image\n",
        "import requests\n",
        "from io import BytesIO\n",
        "from gradio_client import Client\n",
        "\n",
        "# Initialize Gradio client\n",
        "client = Client(\"https://carolineec-informativedrawings.hf.space/\")\n",
        "\n",
        "# Define input and output directories\n",
        "input_dir = \"/content/drive/MyDrive/wikiart/Guided-by-Vector-Flow_input/\"\n",
        "output_dir = \"/content/drive/MyDrive/wikiart/Guided-by-Vector-Flow_line\"\n",
        "os.makedirs(output_dir, exist_ok=True)\n",
        "\n",
        "# Create output directory if it doesn't exist\n",
        "os.makedirs(output_dir, exist_ok=True)\n",
        "\n",
        "# List all image files in the input directory\n",
        "image_files = os.listdir(input_dir)\n",
        "\n",
        "# Iterate through each image file\n",
        "for image_file in image_files:\n",
        "    # Construct the full path to the input image\n",
        "    input_image_path = os.path.join(input_dir, image_file)\n",
        "\n",
        "    # Make prediction\n",
        "    result = client.predict(\n",
        "        input_image_path,  # Image file path\n",
        "        \"style 1\",         # Version\n",
        "        api_name=\"/predict\"\n",
        "    )\n",
        "\n",
        "    # Assuming the result contains the path to the output image\n",
        "    output_img_path = result\n",
        "\n",
        "    # Open the image from the path\n",
        "    image = Image.open(output_img_path)\n",
        "\n",
        "    # Save the image to the output directory with the same name\n",
        "    output_image_path = os.path.join(output_dir, image_file)\n",
        "    image.save(output_image_path)\n",
        "\n",
        "    print(f\"Processed image {image_file} and saved as {output_image_path}\")\n",
        "\n",
        "print(\"All images processed and saved successfully.\")\n"
      ],
      "metadata": {
        "id": "4NYyCMVtcDLO",
        "colab": {
          "base_uri": "https://localhost:8080/"
        },
        "outputId": "16c85145-1fa0-4e2e-be07-b05b75cb4929"
      },
      "execution_count": null,
      "outputs": [
        {
          "output_type": "stream",
          "name": "stderr",
          "text": [
            "/usr/local/lib/python3.10/dist-packages/huggingface_hub/utils/_token.py:88: UserWarning: \n",
            "The secret `HF_TOKEN` does not exist in your Colab secrets.\n",
            "To authenticate with the Hugging Face Hub, create a token in your settings tab (https://huggingface.co/settings/tokens), set it as secret in your Google Colab and restart your session.\n",
            "You will be able to reuse this secret in all of your notebooks.\n",
            "Please note that authentication is recommended but still optional to access public models or datasets.\n",
            "  warnings.warn(\n"
          ]
        },
        {
          "output_type": "stream",
          "name": "stdout",
          "text": [
            "Loaded as API: https://carolineec-informativedrawings.hf.space/ ✔\n",
            "Processed image hb.png and saved as /content/drive/MyDrive/wikiart/Guided-by-Vector-Flow_line/hb.png\n",
            "Processed image h.jpg and saved as /content/drive/MyDrive/wikiart/Guided-by-Vector-Flow_line/h.jpg\n",
            "Processed image da.png and saved as /content/drive/MyDrive/wikiart/Guided-by-Vector-Flow_line/da.png\n",
            "Processed image f.jpg and saved as /content/drive/MyDrive/wikiart/Guided-by-Vector-Flow_line/f.jpg\n",
            "Processed image E.png and saved as /content/drive/MyDrive/wikiart/Guided-by-Vector-Flow_line/E.png\n",
            "Processed image dollar.jpg and saved as /content/drive/MyDrive/wikiart/Guided-by-Vector-Flow_line/dollar.jpg\n",
            "Processed image dawei.png and saved as /content/drive/MyDrive/wikiart/Guided-by-Vector-Flow_line/dawei.png\n",
            "Processed image dog.png and saved as /content/drive/MyDrive/wikiart/Guided-by-Vector-Flow_line/dog.png\n",
            "Processed image field.png and saved as /content/drive/MyDrive/wikiart/Guided-by-Vector-Flow_line/field.png\n",
            "Processed image ch.png and saved as /content/drive/MyDrive/wikiart/Guided-by-Vector-Flow_line/ch.png\n",
            "Processed image cat_up.png and saved as /content/drive/MyDrive/wikiart/Guided-by-Vector-Flow_line/cat_up.png\n",
            "Processed image cat.jpg and saved as /content/drive/MyDrive/wikiart/Guided-by-Vector-Flow_line/cat.jpg\n",
            "Processed image 3.jpg and saved as /content/drive/MyDrive/wikiart/Guided-by-Vector-Flow_line/3.jpg\n",
            "Processed image 222.jpg and saved as /content/drive/MyDrive/wikiart/Guided-by-Vector-Flow_line/222.jpg\n",
            "Processed image 2003.jpg and saved as /content/drive/MyDrive/wikiart/Guided-by-Vector-Flow_line/2003.jpg\n",
            "Processed image 33.jpg and saved as /content/drive/MyDrive/wikiart/Guided-by-Vector-Flow_line/33.jpg\n",
            "Processed image apple.png and saved as /content/drive/MyDrive/wikiart/Guided-by-Vector-Flow_line/apple.png\n",
            "Processed image basket.png and saved as /content/drive/MyDrive/wikiart/Guided-by-Vector-Flow_line/basket.png\n",
            "Processed image house.png and saved as /content/drive/MyDrive/wikiart/Guided-by-Vector-Flow_line/house.png\n",
            "Processed image 1.jpg and saved as /content/drive/MyDrive/wikiart/Guided-by-Vector-Flow_line/1.jpg\n",
            "Processed image 041s.jpg and saved as /content/drive/MyDrive/wikiart/Guided-by-Vector-Flow_line/041s.jpg\n",
            "Processed image ztfn.png and saved as /content/drive/MyDrive/wikiart/Guided-by-Vector-Flow_line/ztfn.png\n",
            "Processed image w.jpg and saved as /content/drive/MyDrive/wikiart/Guided-by-Vector-Flow_line/w.jpg\n",
            "Processed image ztfn_up.png and saved as /content/drive/MyDrive/wikiart/Guided-by-Vector-Flow_line/ztfn_up.png\n",
            "Processed image two.jpg and saved as /content/drive/MyDrive/wikiart/Guided-by-Vector-Flow_line/two.jpg\n",
            "Processed image ts.png and saved as /content/drive/MyDrive/wikiart/Guided-by-Vector-Flow_line/ts.png\n",
            "Processed image pp.jpg and saved as /content/drive/MyDrive/wikiart/Guided-by-Vector-Flow_line/pp.jpg\n",
            "Processed image mm.png and saved as /content/drive/MyDrive/wikiart/Guided-by-Vector-Flow_line/mm.png\n",
            "Processed image pipeline-ETF.png and saved as /content/drive/MyDrive/wikiart/Guided-by-Vector-Flow_line/pipeline-ETF.png\n",
            "Processed image lu-1.png and saved as /content/drive/MyDrive/wikiart/Guided-by-Vector-Flow_line/lu-1.png\n",
            "Processed image ra.png and saved as /content/drive/MyDrive/wikiart/Guided-by-Vector-Flow_line/ra.png\n",
            "Processed image lena.jpg and saved as /content/drive/MyDrive/wikiart/Guided-by-Vector-Flow_line/lena.jpg\n",
            "Processed image lao.jpg and saved as /content/drive/MyDrive/wikiart/Guided-by-Vector-Flow_line/lao.jpg\n",
            "Processed image jm.jpg and saved as /content/drive/MyDrive/wikiart/Guided-by-Vector-Flow_line/jm.jpg\n",
            "Processed image jw.png and saved as /content/drive/MyDrive/wikiart/Guided-by-Vector-Flow_line/jw.png\n",
            "Processed image im2.jpg and saved as /content/drive/MyDrive/wikiart/Guided-by-Vector-Flow_line/im2.jpg\n",
            "All images processed and saved successfully.\n"
          ]
        }
      ]
    },
    {
      "cell_type": "markdown",
      "source": [
        "SVG to CSV"
      ],
      "metadata": {
        "id": "XPtgcTSLhIuo"
      }
    },
    {
      "cell_type": "code",
      "execution_count": null,
      "metadata": {
        "id": "8vgT_dV_bYdR",
        "colab": {
          "base_uri": "https://localhost:8080/"
        },
        "outputId": "180ff44b-e8aa-4ee5-c2fb-1b43e7c0b7bf"
      },
      "outputs": [
        {
          "output_type": "stream",
          "name": "stdout",
          "text": [
            "Processed SVG file: 3.svg. Saved as: 3_head.csv and 3_rest.csv in /content/drive/MyDrive/wikiart/Paint_tran_csv\n",
            "Processed SVG file: 1.svg. Saved as: 1_head.csv and 1_rest.csv in /content/drive/MyDrive/wikiart/Paint_tran_csv\n",
            "Processed SVG file: 2.svg. Saved as: 2_head.csv and 2_rest.csv in /content/drive/MyDrive/wikiart/Paint_tran_csv\n"
          ]
        }
      ],
      "source": [
        "import os\n",
        "\n",
        "# Define the folder containing SVG files\n",
        "svg_folder = \"/content/drive/MyDrive/wikiart/Paint_tran_svg\"\n",
        "# Define the output folder for CSV files\n",
        "output_folder = \"/content/drive/MyDrive/wikiart/Paint_tran_csv\"\n",
        "os.makedirs(output_folder, exist_ok=True)\n",
        "\n",
        "\n",
        "# List SVG files in the folder\n",
        "svg_files = [f for f in os.listdir(svg_folder) if f.endswith('.svg')]\n",
        "import xml.etree.ElementTree as ET\n",
        "import pandas as pd\n",
        "import re\n",
        "\n",
        "def extract_numeric_values(s):\n",
        "    # Use regular expression to extract numeric values\n",
        "    return re.findall(r'[-+]?\\d*\\.\\d+|\\d+', s)\n",
        "\n",
        "def parse_svg(svg_file):\n",
        "    tree = ET.parse(svg_file)\n",
        "    root = tree.getroot()\n",
        "    view_box = root.get('viewBox')\n",
        "    view_box_values = view_box.split()\n",
        "    svg_width = float(view_box_values[2])  # width is the third value\n",
        "    svg_height = float(view_box_values[3])  # height is the fourth value\n",
        "\n",
        "    paths = []\n",
        "\n",
        "    # Iterate through path elements\n",
        "    for path_elem in root.findall('.//{http://www.w3.org/2000/svg}path'):\n",
        "        path_data = path_elem.get('d')\n",
        "        fill = path_elem.get('fill')\n",
        "\n",
        "        # Check if fill color is not \"#ffffff\"\n",
        "        if fill != \"#ffffff\":\n",
        "            # Extract numeric values from path_data using the custom function\n",
        "            numeric_values = extract_numeric_values(path_data)\n",
        "\n",
        "            # Extract the second and third elements\n",
        "            M_x = numeric_values[0] if len(numeric_values) > 1 else None\n",
        "            M_y = numeric_values[1] if len(numeric_values) > 2 else None\n",
        "\n",
        "            # Calculate the length of the path data\n",
        "            path_length = len(path_data)\n",
        "\n",
        "            paths.append({\n",
        "                'path_data': path_data,\n",
        "                'fill': fill,\n",
        "                'X_value': M_x,\n",
        "                'Y_value': M_y,\n",
        "                'path_length': path_length  # Add path length to the dictionary\n",
        "            })\n",
        "\n",
        "    # Create DataFrame from paths list\n",
        "    df = pd.DataFrame(paths)\n",
        "\n",
        "    # Add width and height to the DataFrame\n",
        "    df['width'] = svg_width\n",
        "    df['height'] = svg_height\n",
        "\n",
        "    # Sort DataFrame based on 'path_length' in descending order\n",
        "    df.sort_values(by='path_length', ascending=False, inplace=True)\n",
        "\n",
        "    return df\n",
        "def save_to_csv(dataframe, csv_filename):\n",
        "    dataframe.to_csv(csv_filename, index=False)\n",
        "# Process each SVG file\n",
        "for svg_file in svg_files:\n",
        "    # Parse SVG paths and create a DataFrame\n",
        "    df = parse_svg(os.path.join(svg_folder, svg_file))\n",
        "\n",
        "    # Split DataFrame based on path_length condition\n",
        "    subset_path_length_head = df.iloc[0:3]\n",
        "    subset_path_length_rest = df.iloc[3:]\n",
        "\n",
        "    # Define output filenames\n",
        "    filename_head = os.path.splitext(svg_file)[0] + \"_head.csv\"\n",
        "    filename_rest = os.path.splitext(svg_file)[0] + \"_rest.csv\"\n",
        "\n",
        "    # Define output paths\n",
        "    output_path_head = os.path.join(output_folder, filename_head)\n",
        "    output_path_rest = os.path.join(output_folder, filename_rest)\n",
        "\n",
        "    # Save CSV files to the output folder\n",
        "    save_to_csv(subset_path_length_head, output_path_head)\n",
        "    save_to_csv(subset_path_length_rest, output_path_rest)\n",
        "\n",
        "    print(f\"Processed SVG file: {svg_file}. Saved as: {filename_head} and {filename_rest} in {output_folder}\")\n"
      ]
    },
    {
      "cell_type": "code",
      "source": [
        "import xml.etree.ElementTree as ET\n",
        "import pandas as pd\n",
        "import re\n",
        "import os\n",
        "import matplotlib.pyplot as plt\n",
        "import matplotlib.image as mpimg\n",
        "from scipy.cluster.hierarchy import linkage, fcluster\n",
        "from scipy.spatial.distance import pdist\n",
        "import cairosvg\n",
        "\n",
        "common_path = '/content/drive/MyDrive/wikiart/Paint_tran_csv'\n",
        "File_name = '3'\n",
        "\n",
        "def extract_numeric_values(s):\n",
        "    # Use regular expression to extract numeric values\n",
        "    return re.findall(r'[-+]?\\d*\\.\\d+|\\d+', s)\n",
        "\n",
        "def hierarchical_clustering(csv_file_path):\n",
        "    df = pd.read_csv(csv_file_path)\n",
        "    distances = pdist(df[['X_value', 'Y_value']])\n",
        "    max_distance = df['width'].iloc[0]/32\n",
        "    print(max_distance)\n",
        "    linkage_matrix = linkage(distances, method='ward')\n",
        "    clusters = fcluster(linkage_matrix, t=max_distance, criterion='distance')\n",
        "    df['Cluster'] = clusters\n",
        "    df_sorted = df.sort_values(by='Cluster')\n",
        "    num_clusters = len(set(clusters))\n",
        "    print(\"Number of clusters:\", num_clusters)\n",
        "    return df_sorted\n",
        "\n",
        "\n",
        "def save_svg_and_png_files_head(df_sorted, output_dir_svg, output_dir_png):\n",
        "    os.makedirs(output_dir_svg, exist_ok=True)\n",
        "    os.makedirs(output_dir_png, exist_ok=True)\n",
        "    width = df_sorted['width'].iloc[0]\n",
        "    height = df_sorted['height'].iloc[0]\n",
        "    cumulative_svg_content = f'<svg xmlns=\"http://www.w3.org/2000/svg\" width=\"{width}\" height=\"{height}\">'\n",
        "    #cumulative_svg_content += f'<rect width=\"{width}\" height=\"{height}\" fill=\"white\"/>\\n'\n",
        "    grouped_clusters = df_sorted.groupby('Cluster')\n",
        "\n",
        "    for cluster, group in grouped_clusters:\n",
        "        paths_data = group['path_data'].tolist()\n",
        "        stroke = group['fill'].tolist()\n",
        "        #print(stroke)\n",
        "\n",
        "        svg_content = ''\n",
        "\n",
        "        for path_data, color in zip(paths_data, stroke):\n",
        "            svg_content += f'<path d=\"{path_data}\" fill=\"{color}\" />\\n'\n",
        "            #svg_content += f'<path d=\"{path_data}\" stroke=\"{color}\" fill=\"{\"none\"}\" stroke-width=\"{\"1.00\"}\" vector-effect=\"{\"non-scaling-stroke\"}\"/>\\n'\n",
        "\n",
        "        cumulative_svg_content += svg_content\n",
        "\n",
        "        svg_file_path_cluster = os.path.join(output_dir_svg, f'{File_name}_accumulated_clusters_1_{cluster}.svg')\n",
        "        with open(svg_file_path_cluster, 'w') as f:\n",
        "            f.write(cumulative_svg_content + '</svg>')\n",
        "\n",
        "        png_file_path = os.path.join(output_dir_png, f'{File_name}_accumulated_clusters_1_{cluster}.png')\n",
        "        cairosvg.svg2png(url=svg_file_path_cluster, write_to=png_file_path)\n",
        "\n",
        "    return cumulative_svg_content\n",
        "\n",
        "def save_svg_and_png_files_rest(df_sorted, output_dir_svg, output_dir_png):\n",
        "    os.makedirs(output_dir_svg, exist_ok=True)\n",
        "    os.makedirs(output_dir_png, exist_ok=True)\n",
        "    width = df_sorted['width'].iloc[0]\n",
        "    height = df_sorted['height'].iloc[0]\n",
        "    #cumulative_svg_content = f'<svg xmlns=\"http://www.w3.org/2000/svg\" width=\"{width}\" height=\"{height}\">'\n",
        "    cumulative_svg_content = p_data\n",
        "    grouped_clusters = df_sorted.groupby('Cluster')\n",
        "\n",
        "    for cluster, group in grouped_clusters:\n",
        "        paths_data = group['path_data'].tolist()\n",
        "        fill = group['fill'].tolist()\n",
        "\n",
        "\n",
        "        svg_content = ''\n",
        "        for path_data, color in zip(paths_data, fill):\n",
        "            svg_content += f'<path d=\"{path_data}\" fill=\"{color}\" />\\n'\n",
        "            #svg_content += f'<path d=\"{path_data}\" stroke=\"{color}\" fill=\"{\"none\"}\" stroke-width=\"{\"1.00\"}\" vector-effect=\"{\"non-scaling-stroke\"}\"/>\\n'\n",
        "\n",
        "        # for path_data, style in zip(paths_data, stroke):\n",
        "        #     svg_content += f'<path d=\"{path_data}\" style=\"{stroke}\" />\\n'\n",
        "            #svg_content += f'<path d=\"{path_data}\" style=\"fill: none; stroke: black;stroke-width: 2px;\" />\\n'\n",
        "\n",
        "        cumulative_svg_content += svg_content\n",
        "        f_content = cumulative_svg_content + '</svg>'\n",
        "\n",
        "        svg_file_path = os.path.join(output_dir_svg, f'{File_name}_accumulated_clusters_2_{cluster}.svg')\n",
        "        with open(svg_file_path, 'w') as f:\n",
        "            f.write(f_content)\n",
        "\n",
        "        png_file_path = os.path.join(output_dir_png, f'{File_name}_accumulated_clusters_2_{cluster}.png')\n",
        "        cairosvg.svg2png(url=svg_file_path, write_to=png_file_path)\n",
        "\n",
        "csv_file_path_head = os.path.join(common_path, File_name + '_head.csv')\n",
        "csv_file_path_rest = os.path.join(common_path, File_name + '_rest.csv')\n",
        "svg_output_dir = os.path.join(common_path, File_name + 'svg_files')\n",
        "png_output_dir = os.path.join(common_path, File_name +'png_files')\n",
        "\n",
        "df_sorted_head = hierarchical_clustering(csv_file_path_head)\n",
        "df_sorted_rest = hierarchical_clustering(csv_file_path_rest)\n",
        "p_data = save_svg_and_png_files_head(df_sorted_head, svg_output_dir, png_output_dir)\n",
        "p_data = save_svg_and_png_files_rest(df_sorted_rest, svg_output_dir, png_output_dir)\n",
        "\n"
      ],
      "metadata": {
        "colab": {
          "base_uri": "https://localhost:8080/"
        },
        "id": "PdgJ8N_2hluB",
        "outputId": "78c20bb7-4dba-4ddd-f9bf-332994bc5cf2"
      },
      "execution_count": null,
      "outputs": [
        {
          "output_type": "stream",
          "name": "stdout",
          "text": [
            "16.0\n",
            "Number of clusters: 3\n",
            "16.0\n",
            "Number of clusters: 142\n"
          ]
        }
      ]
    }
  ],
  "metadata": {
    "colab": {
      "provenance": [],
      "mount_file_id": "1PuN4gU4gMFtfovPUzYV6rHyDOXEwnGS3",
      "authorship_tag": "ABX9TyMbWMV965vror5TrG+Q8SZ5",
      "include_colab_link": true
    },
    "kernelspec": {
      "display_name": "Python 3",
      "name": "python3"
    },
    "language_info": {
      "name": "python"
    }
  },
  "nbformat": 4,
  "nbformat_minor": 0
}