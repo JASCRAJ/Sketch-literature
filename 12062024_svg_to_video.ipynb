{
  "nbformat": 4,
  "nbformat_minor": 0,
  "metadata": {
    "colab": {
      "provenance": [],
      "authorship_tag": "ABX9TyNHbVKn6C1aSws2OoiZQcsR",
      "include_colab_link": true
    },
    "kernelspec": {
      "name": "python3",
      "display_name": "Python 3"
    },
    "language_info": {
      "name": "python"
    }
  },
  "cells": [
    {
      "cell_type": "markdown",
      "metadata": {
        "id": "view-in-github",
        "colab_type": "text"
      },
      "source": [
        "<a href=\"https://colab.research.google.com/github/JASCRAJ/Sketch-literature/blob/main/12062024_svg_to_video.ipynb\" target=\"_parent\"><img src=\"https://colab.research.google.com/assets/colab-badge.svg\" alt=\"Open In Colab\"/></a>"
      ]
    },
    {
      "cell_type": "code",
      "source": [
        "!pip install svgwrite cairosvg opencv-python\n"
      ],
      "metadata": {
        "colab": {
          "base_uri": "https://localhost:8080/"
        },
        "id": "BnNBG_Ro7vhc",
        "outputId": "45fecd9b-79dd-467b-d3cf-5c9b930fe7ab"
      },
      "execution_count": null,
      "outputs": [
        {
          "output_type": "stream",
          "name": "stdout",
          "text": [
            "Collecting svgwrite\n",
            "  Downloading svgwrite-1.4.3-py3-none-any.whl (67 kB)\n",
            "\u001b[2K     \u001b[90m━━━━━━━━━━━━━━━━━━━━━━━━━━━━━━━━━━━━━━━━\u001b[0m \u001b[32m67.1/67.1 kB\u001b[0m \u001b[31m793.4 kB/s\u001b[0m eta \u001b[36m0:00:00\u001b[0m\n",
            "\u001b[?25hCollecting cairosvg\n",
            "  Downloading CairoSVG-2.7.1-py3-none-any.whl (43 kB)\n",
            "\u001b[2K     \u001b[90m━━━━━━━━━━━━━━━━━━━━━━━━━━━━━━━━━━━━━━━━\u001b[0m \u001b[32m43.2/43.2 kB\u001b[0m \u001b[31m2.4 MB/s\u001b[0m eta \u001b[36m0:00:00\u001b[0m\n",
            "\u001b[?25hRequirement already satisfied: opencv-python in /usr/local/lib/python3.10/dist-packages (4.8.0.76)\n",
            "Collecting cairocffi (from cairosvg)\n",
            "  Downloading cairocffi-1.7.0-py3-none-any.whl (75 kB)\n",
            "\u001b[2K     \u001b[90m━━━━━━━━━━━━━━━━━━━━━━━━━━━━━━━━━━━━━━━━\u001b[0m \u001b[32m75.4/75.4 kB\u001b[0m \u001b[31m3.9 MB/s\u001b[0m eta \u001b[36m0:00:00\u001b[0m\n",
            "\u001b[?25hCollecting cssselect2 (from cairosvg)\n",
            "  Downloading cssselect2-0.7.0-py3-none-any.whl (15 kB)\n",
            "Requirement already satisfied: defusedxml in /usr/local/lib/python3.10/dist-packages (from cairosvg) (0.7.1)\n",
            "Requirement already satisfied: pillow in /usr/local/lib/python3.10/dist-packages (from cairosvg) (9.4.0)\n",
            "Requirement already satisfied: tinycss2 in /usr/local/lib/python3.10/dist-packages (from cairosvg) (1.3.0)\n",
            "Requirement already satisfied: numpy>=1.21.2 in /usr/local/lib/python3.10/dist-packages (from opencv-python) (1.25.2)\n",
            "Requirement already satisfied: cffi>=1.1.0 in /usr/local/lib/python3.10/dist-packages (from cairocffi->cairosvg) (1.16.0)\n",
            "Requirement already satisfied: webencodings in /usr/local/lib/python3.10/dist-packages (from cssselect2->cairosvg) (0.5.1)\n",
            "Requirement already satisfied: pycparser in /usr/local/lib/python3.10/dist-packages (from cffi>=1.1.0->cairocffi->cairosvg) (2.22)\n",
            "Installing collected packages: svgwrite, cssselect2, cairocffi, cairosvg\n",
            "Successfully installed cairocffi-1.7.0 cairosvg-2.7.1 cssselect2-0.7.0 svgwrite-1.4.3\n"
          ]
        }
      ]
    },
    {
      "cell_type": "code",
      "execution_count": null,
      "metadata": {
        "id": "hRKzTI3y5ry1"
      },
      "outputs": [],
      "source": [
        "import xml.etree.ElementTree as ET\n",
        "import re\n",
        "\n",
        "def parse_svg(svg_file):\n",
        "    tree = ET.parse(svg_file)\n",
        "    root = tree.getroot()\n",
        "    namespaces = {'svg': 'http://www.w3.org/2000/svg'}\n",
        "\n",
        "    viewBox = root.attrib.get('viewBox', '0 0 476 600')\n",
        "    width, height = viewBox.split()[2:4]\n",
        "\n",
        "    strokes = []\n",
        "    for path in root.findall('.//svg:path', namespaces):\n",
        "        d = path.attrib['d']\n",
        "        fill = path.attrib.get('fill', 'none')\n",
        "        cleaned_d = re.sub(r'\\s+', ' ', d.strip())  # Remove extra whitespace\n",
        "        strokes.append((cleaned_d, fill))\n",
        "\n",
        "    return strokes, (width, height)\n"
      ]
    },
    {
      "cell_type": "code",
      "source": [
        "import svgwrite\n",
        "import cairosvg\n",
        "\n",
        "def create_svg_with_strokes(strokes, size, output_file):\n",
        "    width, height = size\n",
        "    dwg = svgwrite.Drawing(output_file, profile='tiny', size=(f'{width}px', f'{height}px'), viewBox=f'0 0 {width} {height}')\n",
        "    for stroke, fill in strokes:\n",
        "        dwg.add(dwg.path(d=stroke, fill=fill, stroke='#213d46', stroke_width=2))\n",
        "    dwg.save()\n",
        "\n",
        "def svg_to_png(svg_file, png_file):\n",
        "    cairosvg.svg2png(url=svg_file, write_to=png_file)\n"
      ],
      "metadata": {
        "id": "1gKswszj7rfx"
      },
      "execution_count": null,
      "outputs": []
    },
    {
      "cell_type": "code",
      "source": [
        "import cv2\n",
        "import os\n",
        "\n",
        "def generate_images_from_strokes(strokes, size, temp_dir):\n",
        "    images = []\n",
        "    for i in range(1, len(strokes) + 1):\n",
        "        current_strokes = strokes[:i]\n",
        "        svg_file = os.path.join(temp_dir, f'image_{i}.svg')\n",
        "        png_file = os.path.join(temp_dir, f'image_{i}.png')\n",
        "\n",
        "        create_svg_with_strokes(current_strokes, size, svg_file)\n",
        "        svg_to_png(svg_file, png_file)\n",
        "\n",
        "        images.append(png_file)\n",
        "\n",
        "    return images\n",
        "\n",
        "def create_video_from_images(image_files, output_video_file, fps=15):\n",
        "    frame = cv2.imread(image_files[0])\n",
        "    height, width, layers = frame.shape\n",
        "    video = cv2.VideoWriter(output_video_file, cv2.VideoWriter_fourcc(*'mp4v'), fps, (width, height))\n",
        "\n",
        "    for image_file in image_files:\n",
        "        video.write(cv2.imread(image_file))\n",
        "\n",
        "    cv2.destroyAllWindows()\n",
        "    video.release()\n"
      ],
      "metadata": {
        "id": "DOh8YSHa78O8"
      },
      "execution_count": 6,
      "outputs": []
    },
    {
      "cell_type": "code",
      "source": [
        "import shutil\n",
        "\n",
        "# List of SVG files to process\n",
        "svg_files = ['/content/sketch0001_accumulated_clusters_2_38.svg', '/content/sketch0002_accumulated_clusters_2_40.svg']  # Add your SVG file paths here\n",
        "output_videos = ['output_video1.mp4', 'output_video2.mp4']  # Corresponding output video file paths\n",
        "\n",
        "for svg_file, output_video_file in zip(svg_files, output_videos):\n",
        "    # Temporary directory for image files\n",
        "    temp_dir = 'temp_images'\n",
        "\n",
        "    # Ensure temp directory exists\n",
        "    if os.path.exists(temp_dir):\n",
        "        shutil.rmtree(temp_dir)\n",
        "    os.makedirs(temp_dir)\n",
        "\n",
        "    # Parse the SVG and get the strokes\n",
        "    strokes, size = parse_svg(svg_file)\n",
        "\n",
        "    # Generate images from strokes\n",
        "    image_files = generate_images_from_strokes(strokes, size, temp_dir)\n",
        "\n",
        "    # Create a video from the generated images\n",
        "    create_video_from_images(image_files, output_video_file)\n",
        "\n",
        "    # Clean up temp directory\n",
        "    shutil.rmtree(temp_dir)\n",
        "\n",
        "    print(f'Video saved to {output_video_file}')\n"
      ],
      "metadata": {
        "colab": {
          "base_uri": "https://localhost:8080/"
        },
        "id": "CsuBZ-Cb7-dQ",
        "outputId": "fcd07d1d-754d-4e5c-ae66-a77f67d17dda"
      },
      "execution_count": 7,
      "outputs": [
        {
          "output_type": "stream",
          "name": "stdout",
          "text": [
            "Video saved to output_video1.mp4\n",
            "Video saved to output_video2.mp4\n"
          ]
        }
      ]
    }
  ]
}